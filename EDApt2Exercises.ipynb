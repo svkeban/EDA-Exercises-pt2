{
 "cells": [
  {
   "cell_type": "markdown",
   "id": "90ae45ab",
   "metadata": {
    "raw_mimetype": "text/markdown"
   },
   "source": [
    "# How to calculate summary statistics?\n",
    "\n",
    "Follow along with this [article](https://pandas.pydata.org/pandas-docs/stable/getting_started/intro_tutorials/06_calculate_statistics.html). The data set from the article has been included in the repository already, no need to download separately. This notebook will also contain some supplemental information to help you better understand basic summary statistics.\n",
    "\n",
    "First thing we want to do is to import the pandas library."
   ]
  },
  {
   "cell_type": "code",
   "execution_count": 1311,
   "id": "9d3c3b53",
   "metadata": {},
   "outputs": [],
   "source": [
    "# import the pandas library and use the alias 'pd'\n",
    "import pandas as pd"
   ]
  },
  {
   "cell_type": "markdown",
   "id": "fe80ce4e",
   "metadata": {},
   "source": [
    "We are going to be working with the titanic dataset found [here.](https://github.com/pandas-dev/pandas/blob/master/doc/data/titanic.csv) It is in csv format and consists fo the following data columns:"
   ]
  },
  {
   "cell_type": "markdown",
   "id": "6266b04d",
   "metadata": {},
   "source": [
    "\n",
    "- PassengerId: Id of every passenger.\n",
    "- Survived: Value of 0 for not survived and 1 for survived.\n",
    "- Pclass: There are 3 classes: Class 1, Class 2 and Class 3.\n",
    "- Name: Name of passenger.\n",
    "- Sex: Gender of passenger.\n",
    "- Age: Age of passenger.\n",
    "- SibSp: Number of siblings / spouses on the Titanic\n",
    "- Parch: Number of parents / children on the Titanic\n",
    "- Ticket: Ticket number of passenger.\n",
    "- Fare: Indicating the fare.\n",
    "- Cabin: The cabin of passenger.\n",
    "- Embarked: Port of Embarkation ( C = Cherbourg, Q = Queenstown, S = Southampton)\n",
    "\n",
    "Let's load the data into a data frame and see what the data looks like. Since your csv file is in a folder named data, the path syntex is: data/your_data_set_name.csv to read your data into a data frame."
   ]
  },
  {
   "cell_type": "code",
   "execution_count": 1312,
   "id": "a7383c72",
   "metadata": {},
   "outputs": [
    {
     "data": {
      "text/plain": [
       "Index(['PassengerId', 'Survived', 'Pclass', 'Name', 'Sex', 'Age', 'SibSp',\n",
       "       'Parch', 'Ticket', 'Fare', 'Cabin', 'Embarked'],\n",
       "      dtype='object')"
      ]
     },
     "execution_count": 1312,
     "metadata": {},
     "output_type": "execute_result"
    }
   ],
   "source": [
    "#read titantic data set into a data frame\n",
    "df = pd.read_csv('titanic.csv')\n",
    "\n",
    "#although we listed the column names above, write the code to return the name of all of your columns in the dataset\n",
    "df.columns"
   ]
  },
  {
   "cell_type": "code",
   "execution_count": 1313,
   "id": "13e52049",
   "metadata": {
    "scrolled": true
   },
   "outputs": [
    {
     "data": {
      "text/html": [
       "<div>\n",
       "<style scoped>\n",
       "    .dataframe tbody tr th:only-of-type {\n",
       "        vertical-align: middle;\n",
       "    }\n",
       "\n",
       "    .dataframe tbody tr th {\n",
       "        vertical-align: top;\n",
       "    }\n",
       "\n",
       "    .dataframe thead th {\n",
       "        text-align: right;\n",
       "    }\n",
       "</style>\n",
       "<table border=\"1\" class=\"dataframe\">\n",
       "  <thead>\n",
       "    <tr style=\"text-align: right;\">\n",
       "      <th></th>\n",
       "      <th>PassengerId</th>\n",
       "      <th>Survived</th>\n",
       "      <th>Pclass</th>\n",
       "      <th>Name</th>\n",
       "      <th>Sex</th>\n",
       "      <th>Age</th>\n",
       "      <th>SibSp</th>\n",
       "      <th>Parch</th>\n",
       "      <th>Ticket</th>\n",
       "      <th>Fare</th>\n",
       "      <th>Cabin</th>\n",
       "      <th>Embarked</th>\n",
       "    </tr>\n",
       "  </thead>\n",
       "  <tbody>\n",
       "    <tr>\n",
       "      <th>0</th>\n",
       "      <td>1</td>\n",
       "      <td>0</td>\n",
       "      <td>3</td>\n",
       "      <td>Braund, Mr. Owen Harris</td>\n",
       "      <td>male</td>\n",
       "      <td>22.0</td>\n",
       "      <td>1</td>\n",
       "      <td>0</td>\n",
       "      <td>A/5 21171</td>\n",
       "      <td>7.2500</td>\n",
       "      <td>NaN</td>\n",
       "      <td>S</td>\n",
       "    </tr>\n",
       "    <tr>\n",
       "      <th>1</th>\n",
       "      <td>2</td>\n",
       "      <td>1</td>\n",
       "      <td>1</td>\n",
       "      <td>Cumings, Mrs. John Bradley (Florence Briggs Th...</td>\n",
       "      <td>female</td>\n",
       "      <td>38.0</td>\n",
       "      <td>1</td>\n",
       "      <td>0</td>\n",
       "      <td>PC 17599</td>\n",
       "      <td>71.2833</td>\n",
       "      <td>C85</td>\n",
       "      <td>C</td>\n",
       "    </tr>\n",
       "    <tr>\n",
       "      <th>2</th>\n",
       "      <td>3</td>\n",
       "      <td>1</td>\n",
       "      <td>3</td>\n",
       "      <td>Heikkinen, Miss. Laina</td>\n",
       "      <td>female</td>\n",
       "      <td>26.0</td>\n",
       "      <td>0</td>\n",
       "      <td>0</td>\n",
       "      <td>STON/O2. 3101282</td>\n",
       "      <td>7.9250</td>\n",
       "      <td>NaN</td>\n",
       "      <td>S</td>\n",
       "    </tr>\n",
       "    <tr>\n",
       "      <th>3</th>\n",
       "      <td>4</td>\n",
       "      <td>1</td>\n",
       "      <td>1</td>\n",
       "      <td>Futrelle, Mrs. Jacques Heath (Lily May Peel)</td>\n",
       "      <td>female</td>\n",
       "      <td>35.0</td>\n",
       "      <td>1</td>\n",
       "      <td>0</td>\n",
       "      <td>113803</td>\n",
       "      <td>53.1000</td>\n",
       "      <td>C123</td>\n",
       "      <td>S</td>\n",
       "    </tr>\n",
       "    <tr>\n",
       "      <th>4</th>\n",
       "      <td>5</td>\n",
       "      <td>0</td>\n",
       "      <td>3</td>\n",
       "      <td>Allen, Mr. William Henry</td>\n",
       "      <td>male</td>\n",
       "      <td>35.0</td>\n",
       "      <td>0</td>\n",
       "      <td>0</td>\n",
       "      <td>373450</td>\n",
       "      <td>8.0500</td>\n",
       "      <td>NaN</td>\n",
       "      <td>S</td>\n",
       "    </tr>\n",
       "  </tbody>\n",
       "</table>\n",
       "</div>"
      ],
      "text/plain": [
       "   PassengerId  Survived  Pclass  \\\n",
       "0            1         0       3   \n",
       "1            2         1       1   \n",
       "2            3         1       3   \n",
       "3            4         1       1   \n",
       "4            5         0       3   \n",
       "\n",
       "                                                Name     Sex   Age  SibSp  \\\n",
       "0                            Braund, Mr. Owen Harris    male  22.0      1   \n",
       "1  Cumings, Mrs. John Bradley (Florence Briggs Th...  female  38.0      1   \n",
       "2                             Heikkinen, Miss. Laina  female  26.0      0   \n",
       "3       Futrelle, Mrs. Jacques Heath (Lily May Peel)  female  35.0      1   \n",
       "4                           Allen, Mr. William Henry    male  35.0      0   \n",
       "\n",
       "   Parch            Ticket     Fare Cabin Embarked  \n",
       "0      0         A/5 21171   7.2500   NaN        S  \n",
       "1      0          PC 17599  71.2833   C85        C  \n",
       "2      0  STON/O2. 3101282   7.9250   NaN        S  \n",
       "3      0            113803  53.1000  C123        S  \n",
       "4      0            373450   8.0500   NaN        S  "
      ]
     },
     "execution_count": 1313,
     "metadata": {},
     "output_type": "execute_result"
    }
   ],
   "source": [
    "# print the first 5 rows from the dataframe\n",
    "df.head()"
   ]
  },
  {
   "cell_type": "markdown",
   "id": "5456e387",
   "metadata": {},
   "source": [
    "What are some of your observations from looking at the data so far? Questions you would like to explore?\n",
    "\n",
    "For example: I noticed that Survived is an int instead of Yes or No, not sure if I'll need to address that while data cleaning. I'm curious if the amount you paid for your ticket(Fare) impacted your survival rate?\n",
    "<br><br><br><br><br>\n",
    "\n",
    "\n",
    "\n",
    "\n",
    "\n"
   ]
  },
  {
   "cell_type": "code",
   "execution_count": 1314,
   "id": "0dc4c04a",
   "metadata": {},
   "outputs": [
    {
     "name": "stdout",
     "output_type": "stream",
     "text": [
      "<class 'pandas.core.frame.DataFrame'>\n",
      "RangeIndex: 891 entries, 0 to 890\n",
      "Data columns (total 12 columns):\n",
      " #   Column       Non-Null Count  Dtype  \n",
      "---  ------       --------------  -----  \n",
      " 0   PassengerId  891 non-null    int64  \n",
      " 1   Survived     891 non-null    int64  \n",
      " 2   Pclass       891 non-null    int64  \n",
      " 3   Name         891 non-null    object \n",
      " 4   Sex          891 non-null    object \n",
      " 5   Age          714 non-null    float64\n",
      " 6   SibSp        891 non-null    int64  \n",
      " 7   Parch        891 non-null    int64  \n",
      " 8   Ticket       891 non-null    object \n",
      " 9   Fare         891 non-null    float64\n",
      " 10  Cabin        204 non-null    object \n",
      " 11  Embarked     889 non-null    object \n",
      "dtypes: float64(2), int64(5), object(5)\n",
      "memory usage: 83.7+ KB\n"
     ]
    }
   ],
   "source": [
    "#.info() returns: \n",
    "#name of the column, Non-null Count meaning how many non-null values their are in that column and Dtype\n",
    "#int64 means int value, float64 means float value, object means string value.\n",
    "df.info()"
   ]
  },
  {
   "cell_type": "markdown",
   "id": "898bf46c",
   "metadata": {},
   "source": [
    "By default statistical anaysis is run on numerical values.  \n",
    "\n",
    "Looking at the data above what do you notice about Age? Cabin? Hint: It would appear we are missing some data. How might these observations influence the questions asked?<br><br>\n",
    "\n",
    "Any other observations?\n",
    "<br><br><br>"
   ]
  },
  {
   "cell_type": "markdown",
   "id": "4c7c0618",
   "metadata": {},
   "source": [
    "## Aggregating statistics"
   ]
  },
  {
   "cell_type": "markdown",
   "id": "6d7429ab",
   "metadata": {},
   "source": [
    "### Calculating Mean, Median, Mode"
   ]
  },
  {
   "cell_type": "markdown",
   "id": "531231ed",
   "metadata": {},
   "source": [
    "#### Mean: is the sum of the values divided by the number of values."
   ]
  },
  {
   "cell_type": "code",
   "execution_count": 1315,
   "id": "6c643af1",
   "metadata": {},
   "outputs": [
    {
     "data": {
      "text/plain": [
       "29.69911764705882"
      ]
     },
     "execution_count": 1315,
     "metadata": {},
     "output_type": "execute_result"
    }
   ],
   "source": [
    "#What is the mean age of the Titanic passengers?\n",
    "df['Age'].mean()"
   ]
  },
  {
   "cell_type": "markdown",
   "id": "77fdd7e3",
   "metadata": {},
   "source": [
    "We can also get the mean for all columns. "
   ]
  },
  {
   "cell_type": "code",
   "execution_count": 1316,
   "id": "8c257e27",
   "metadata": {},
   "outputs": [
    {
     "name": "stderr",
     "output_type": "stream",
     "text": [
      "C:\\Users\\sever.DESKTOP-II3MN0U\\AppData\\Local\\Temp\\ipykernel_11328\\3176816925.py:2: FutureWarning: Dropping of nuisance columns in DataFrame reductions (with 'numeric_only=None') is deprecated; in a future version this will raise TypeError.  Select only valid columns before calling the reduction.\n",
      "  df.mean()\n"
     ]
    },
    {
     "data": {
      "text/plain": [
       "PassengerId    446.000000\n",
       "Survived         0.383838\n",
       "Pclass           2.308642\n",
       "Age             29.699118\n",
       "SibSp            0.523008\n",
       "Parch            0.381594\n",
       "Fare            32.204208\n",
       "dtype: float64"
      ]
     },
     "execution_count": 1316,
     "metadata": {},
     "output_type": "execute_result"
    }
   ],
   "source": [
    "#mean for all columns\n",
    "df.mean()"
   ]
  },
  {
   "cell_type": "markdown",
   "id": "650ab22b",
   "metadata": {},
   "source": [
    "#### Median: Is the middle value when all the numbers are put in order, dividing the sample into two halves.  \n",
    "\n",
    "Example: (23, 46, 55, 78, 99)<br> \n",
    "The Median of the above example is 55. "
   ]
  },
  {
   "cell_type": "code",
   "execution_count": 1317,
   "id": "75c70181",
   "metadata": {},
   "outputs": [
    {
     "name": "stdout",
     "output_type": "stream",
     "text": [
      "Median age:  28.0\n",
      "Median fare:  14.4542\n"
     ]
    }
   ],
   "source": [
    "# What is the median age and ticket fare price of the Titanic passengers?\n",
    "med_age = df['Age'].median()\n",
    "med_fare = df['Fare'].median()\n",
    "print('Median age: ', med_age)\n",
    "print('Median fare: ', med_fare)"
   ]
  },
  {
   "cell_type": "markdown",
   "id": "12993336",
   "metadata": {},
   "source": [
    "#### Mode: The most frequent value(s) in a sample"
   ]
  },
  {
   "cell_type": "code",
   "execution_count": 1318,
   "id": "d21de9a8",
   "metadata": {},
   "outputs": [
    {
     "name": "stdout",
     "output_type": "stream",
     "text": [
      "Age mode:  24.0\n",
      "\n",
      "\n",
      "Fare mode:  8.05\n"
     ]
    }
   ],
   "source": [
    "# What is the mode age and fare for the titanic dateset?\n",
    "mode_age = df['Age'].mode()[0]\n",
    "mode_fare = df['Fare'].mode()[0]\n",
    "print('Age mode: ', mode_age)\n",
    "print('\\n')\n",
    "print('Fare mode: ', mode_fare)\n"
   ]
  },
  {
   "cell_type": "markdown",
   "id": "8894202a",
   "metadata": {},
   "source": [
    "Note the difference between Mean, Medium and Mode.  Why is this important? Can you think of times you would what to use one over the others?<br><br><br><br><br>\n",
    "\n",
    "\n",
    "\n",
    "\n"
   ]
  },
  {
   "cell_type": "markdown",
   "id": "1089b8d7",
   "metadata": {},
   "source": [
    "We can use the .describe() funciton to display some basic statistics for all numeric columns:"
   ]
  },
  {
   "cell_type": "code",
   "execution_count": 1319,
   "id": "cf48f48d",
   "metadata": {},
   "outputs": [
    {
     "data": {
      "text/html": [
       "<div>\n",
       "<style scoped>\n",
       "    .dataframe tbody tr th:only-of-type {\n",
       "        vertical-align: middle;\n",
       "    }\n",
       "\n",
       "    .dataframe tbody tr th {\n",
       "        vertical-align: top;\n",
       "    }\n",
       "\n",
       "    .dataframe thead th {\n",
       "        text-align: right;\n",
       "    }\n",
       "</style>\n",
       "<table border=\"1\" class=\"dataframe\">\n",
       "  <thead>\n",
       "    <tr style=\"text-align: right;\">\n",
       "      <th></th>\n",
       "      <th>PassengerId</th>\n",
       "      <th>Survived</th>\n",
       "      <th>Pclass</th>\n",
       "      <th>Age</th>\n",
       "      <th>SibSp</th>\n",
       "      <th>Parch</th>\n",
       "      <th>Fare</th>\n",
       "    </tr>\n",
       "  </thead>\n",
       "  <tbody>\n",
       "    <tr>\n",
       "      <th>count</th>\n",
       "      <td>891.000000</td>\n",
       "      <td>891.000000</td>\n",
       "      <td>891.000000</td>\n",
       "      <td>714.000000</td>\n",
       "      <td>891.000000</td>\n",
       "      <td>891.000000</td>\n",
       "      <td>891.000000</td>\n",
       "    </tr>\n",
       "    <tr>\n",
       "      <th>mean</th>\n",
       "      <td>446.000000</td>\n",
       "      <td>0.383838</td>\n",
       "      <td>2.308642</td>\n",
       "      <td>29.699118</td>\n",
       "      <td>0.523008</td>\n",
       "      <td>0.381594</td>\n",
       "      <td>32.204208</td>\n",
       "    </tr>\n",
       "    <tr>\n",
       "      <th>std</th>\n",
       "      <td>257.353842</td>\n",
       "      <td>0.486592</td>\n",
       "      <td>0.836071</td>\n",
       "      <td>14.526497</td>\n",
       "      <td>1.102743</td>\n",
       "      <td>0.806057</td>\n",
       "      <td>49.693429</td>\n",
       "    </tr>\n",
       "    <tr>\n",
       "      <th>min</th>\n",
       "      <td>1.000000</td>\n",
       "      <td>0.000000</td>\n",
       "      <td>1.000000</td>\n",
       "      <td>0.420000</td>\n",
       "      <td>0.000000</td>\n",
       "      <td>0.000000</td>\n",
       "      <td>0.000000</td>\n",
       "    </tr>\n",
       "    <tr>\n",
       "      <th>25%</th>\n",
       "      <td>223.500000</td>\n",
       "      <td>0.000000</td>\n",
       "      <td>2.000000</td>\n",
       "      <td>20.125000</td>\n",
       "      <td>0.000000</td>\n",
       "      <td>0.000000</td>\n",
       "      <td>7.910400</td>\n",
       "    </tr>\n",
       "    <tr>\n",
       "      <th>50%</th>\n",
       "      <td>446.000000</td>\n",
       "      <td>0.000000</td>\n",
       "      <td>3.000000</td>\n",
       "      <td>28.000000</td>\n",
       "      <td>0.000000</td>\n",
       "      <td>0.000000</td>\n",
       "      <td>14.454200</td>\n",
       "    </tr>\n",
       "    <tr>\n",
       "      <th>75%</th>\n",
       "      <td>668.500000</td>\n",
       "      <td>1.000000</td>\n",
       "      <td>3.000000</td>\n",
       "      <td>38.000000</td>\n",
       "      <td>1.000000</td>\n",
       "      <td>0.000000</td>\n",
       "      <td>31.000000</td>\n",
       "    </tr>\n",
       "    <tr>\n",
       "      <th>max</th>\n",
       "      <td>891.000000</td>\n",
       "      <td>1.000000</td>\n",
       "      <td>3.000000</td>\n",
       "      <td>80.000000</td>\n",
       "      <td>8.000000</td>\n",
       "      <td>6.000000</td>\n",
       "      <td>512.329200</td>\n",
       "    </tr>\n",
       "  </tbody>\n",
       "</table>\n",
       "</div>"
      ],
      "text/plain": [
       "       PassengerId    Survived      Pclass         Age       SibSp  \\\n",
       "count   891.000000  891.000000  891.000000  714.000000  891.000000   \n",
       "mean    446.000000    0.383838    2.308642   29.699118    0.523008   \n",
       "std     257.353842    0.486592    0.836071   14.526497    1.102743   \n",
       "min       1.000000    0.000000    1.000000    0.420000    0.000000   \n",
       "25%     223.500000    0.000000    2.000000   20.125000    0.000000   \n",
       "50%     446.000000    0.000000    3.000000   28.000000    0.000000   \n",
       "75%     668.500000    1.000000    3.000000   38.000000    1.000000   \n",
       "max     891.000000    1.000000    3.000000   80.000000    8.000000   \n",
       "\n",
       "            Parch        Fare  \n",
       "count  891.000000  891.000000  \n",
       "mean     0.381594   32.204208  \n",
       "std      0.806057   49.693429  \n",
       "min      0.000000    0.000000  \n",
       "25%      0.000000    7.910400  \n",
       "50%      0.000000   14.454200  \n",
       "75%      0.000000   31.000000  \n",
       "max      6.000000  512.329200  "
      ]
     },
     "execution_count": 1319,
     "metadata": {},
     "output_type": "execute_result"
    }
   ],
   "source": [
    "# Summary statistics for all columns in a dataset\n",
    "df.describe()"
   ]
  },
  {
   "cell_type": "code",
   "execution_count": 1320,
   "id": "807896f0",
   "metadata": {},
   "outputs": [
    {
     "name": "stdout",
     "output_type": "stream",
     "text": [
      "              Age        Fare\n",
      "count  714.000000  891.000000\n",
      "mean    29.699118   32.204208\n",
      "std     14.526497   49.693429\n",
      "min      0.420000    0.000000\n",
      "25%     20.125000    7.910400\n",
      "50%     28.000000   14.454200\n",
      "75%     38.000000   31.000000\n",
      "max     80.000000  512.329200\n"
     ]
    }
   ],
   "source": [
    "# Summary statistics for just the Age and Fare columns\n",
    "summary = df[['Age', 'Fare']].describe()\n",
    "print(summary)"
   ]
  },
  {
   "cell_type": "markdown",
   "id": "87bd507a",
   "metadata": {},
   "source": [
    "Notice that medium and mode are not included in .describe()\n",
    "\n",
    "Instead of the predefined statistics, specific combinations of aggregating statistics for given columns can be defined using the [DataFrame.agg() method:](https://pandas.pydata.org/pandas-docs/stable/reference/api/pandas.DataFrame.agg.html#pandas.DataFrame.agg)"
   ]
  },
  {
   "cell_type": "code",
   "execution_count": 1321,
   "id": "bc9fd691",
   "metadata": {},
   "outputs": [],
   "source": [
    "#use .agg\n",
    "###################### df[['Age', 'Fare']].agg"
   ]
  },
  {
   "cell_type": "markdown",
   "id": "1819249b",
   "metadata": {},
   "source": [
    "## Aggregating statistics grouped by category"
   ]
  },
  {
   "cell_type": "markdown",
   "id": "28129c8e",
   "metadata": {},
   "source": [
    "Calculating a given statistic (e.g. mean age) for each category in a column (e.g. male/female in the Sex column) is a common pattern. The groupby method is used to support this type of operations. "
   ]
  },
  {
   "cell_type": "code",
   "execution_count": 1322,
   "id": "ae223f7c",
   "metadata": {
    "scrolled": true
   },
   "outputs": [
    {
     "data": {
      "text/plain": [
       "Sex\n",
       "female    27.915709\n",
       "male      30.726645\n",
       "Name: Age, dtype: float64"
      ]
     },
     "execution_count": 1322,
     "metadata": {},
     "output_type": "execute_result"
    }
   ],
   "source": [
    "# What is the average age for male versus female Titanic passengers?\n",
    "df.groupby('Sex')['Age'].mean()"
   ]
  },
  {
   "cell_type": "code",
   "execution_count": 1323,
   "id": "c734ba4e",
   "metadata": {},
   "outputs": [
    {
     "data": {
      "text/html": [
       "<div>\n",
       "<style scoped>\n",
       "    .dataframe tbody tr th:only-of-type {\n",
       "        vertical-align: middle;\n",
       "    }\n",
       "\n",
       "    .dataframe tbody tr th {\n",
       "        vertical-align: top;\n",
       "    }\n",
       "\n",
       "    .dataframe thead th {\n",
       "        text-align: right;\n",
       "    }\n",
       "</style>\n",
       "<table border=\"1\" class=\"dataframe\">\n",
       "  <thead>\n",
       "    <tr style=\"text-align: right;\">\n",
       "      <th></th>\n",
       "      <th>count</th>\n",
       "      <th>mean</th>\n",
       "      <th>std</th>\n",
       "      <th>min</th>\n",
       "      <th>25%</th>\n",
       "      <th>50%</th>\n",
       "      <th>75%</th>\n",
       "      <th>max</th>\n",
       "    </tr>\n",
       "    <tr>\n",
       "      <th>Sex</th>\n",
       "      <th></th>\n",
       "      <th></th>\n",
       "      <th></th>\n",
       "      <th></th>\n",
       "      <th></th>\n",
       "      <th></th>\n",
       "      <th></th>\n",
       "      <th></th>\n",
       "    </tr>\n",
       "  </thead>\n",
       "  <tbody>\n",
       "    <tr>\n",
       "      <th>female</th>\n",
       "      <td>314.0</td>\n",
       "      <td>0.742038</td>\n",
       "      <td>0.438211</td>\n",
       "      <td>0.0</td>\n",
       "      <td>0.0</td>\n",
       "      <td>1.0</td>\n",
       "      <td>1.0</td>\n",
       "      <td>1.0</td>\n",
       "    </tr>\n",
       "    <tr>\n",
       "      <th>male</th>\n",
       "      <td>577.0</td>\n",
       "      <td>0.188908</td>\n",
       "      <td>0.391775</td>\n",
       "      <td>0.0</td>\n",
       "      <td>0.0</td>\n",
       "      <td>0.0</td>\n",
       "      <td>0.0</td>\n",
       "      <td>1.0</td>\n",
       "    </tr>\n",
       "  </tbody>\n",
       "</table>\n",
       "</div>"
      ],
      "text/plain": [
       "        count      mean       std  min  25%  50%  75%  max\n",
       "Sex                                                       \n",
       "female  314.0  0.742038  0.438211  0.0  0.0  1.0  1.0  1.0\n",
       "male    577.0  0.188908  0.391775  0.0  0.0  0.0  0.0  1.0"
      ]
     },
     "execution_count": 1323,
     "metadata": {},
     "output_type": "execute_result"
    }
   ],
   "source": [
    "# What is the survival of men verses female Titanic Passengers? \n",
    "\n",
    "df.groupby('Sex')['Survived'].describe()"
   ]
  },
  {
   "cell_type": "code",
   "execution_count": 1324,
   "id": "7ea45273",
   "metadata": {},
   "outputs": [
    {
     "name": "stdout",
     "output_type": "stream",
     "text": [
      "Fare by class: \n",
      "         count       mean        std  min       25%      50%   75%       max\n",
      "Pclass                                                                     \n",
      "1       216.0  84.154687  78.380373  0.0  30.92395  60.2875  93.5  512.3292\n",
      "2       184.0  20.662183  13.417399  0.0  13.00000  14.2500  26.0   73.5000\n",
      "3       491.0  13.675550  11.778142  0.0   7.75000   8.0500  15.5   69.5500\n",
      "\n",
      "\n",
      "Survival by class: \n",
      "         count      mean       std  min  25%  50%  75%  max\n",
      "Pclass                                                    \n",
      "1       216.0  0.629630  0.484026  0.0  0.0  1.0  1.0  1.0\n",
      "2       184.0  0.472826  0.500623  0.0  0.0  0.0  1.0  1.0\n",
      "3       491.0  0.242363  0.428949  0.0  0.0  0.0  0.0  1.0\n"
     ]
    }
   ],
   "source": [
    "# Try some other combinations, what do you think about this method?\n",
    "\n",
    "class_survival = df.groupby('Pclass')['Survived'].describe()\n",
    "class_fare = df.groupby('Pclass')['Fare'].describe()\n",
    "print('Fare by class: \\n', class_fare)\n",
    "print('\\n')\n",
    "print('Survival by class: \\n', class_survival)\n",
    "\n",
    "\n",
    "\n",
    "\n"
   ]
  },
  {
   "cell_type": "markdown",
   "id": "066ba694",
   "metadata": {},
   "source": [
    "In the previous examples, we explicitly selected the 2 columns first. If not, the mean method is applied to each column containing numerical columns:"
   ]
  },
  {
   "cell_type": "code",
   "execution_count": 1325,
   "id": "8ac2debe",
   "metadata": {},
   "outputs": [
    {
     "data": {
      "text/html": [
       "<div>\n",
       "<style scoped>\n",
       "    .dataframe tbody tr th:only-of-type {\n",
       "        vertical-align: middle;\n",
       "    }\n",
       "\n",
       "    .dataframe tbody tr th {\n",
       "        vertical-align: top;\n",
       "    }\n",
       "\n",
       "    .dataframe thead th {\n",
       "        text-align: right;\n",
       "    }\n",
       "</style>\n",
       "<table border=\"1\" class=\"dataframe\">\n",
       "  <thead>\n",
       "    <tr style=\"text-align: right;\">\n",
       "      <th></th>\n",
       "      <th>PassengerId</th>\n",
       "      <th>Survived</th>\n",
       "      <th>Pclass</th>\n",
       "      <th>Age</th>\n",
       "      <th>SibSp</th>\n",
       "      <th>Parch</th>\n",
       "      <th>Fare</th>\n",
       "    </tr>\n",
       "    <tr>\n",
       "      <th>Sex</th>\n",
       "      <th></th>\n",
       "      <th></th>\n",
       "      <th></th>\n",
       "      <th></th>\n",
       "      <th></th>\n",
       "      <th></th>\n",
       "      <th></th>\n",
       "    </tr>\n",
       "  </thead>\n",
       "  <tbody>\n",
       "    <tr>\n",
       "      <th>female</th>\n",
       "      <td>431.028662</td>\n",
       "      <td>0.742038</td>\n",
       "      <td>2.159236</td>\n",
       "      <td>27.915709</td>\n",
       "      <td>0.694268</td>\n",
       "      <td>0.649682</td>\n",
       "      <td>44.479818</td>\n",
       "    </tr>\n",
       "    <tr>\n",
       "      <th>male</th>\n",
       "      <td>454.147314</td>\n",
       "      <td>0.188908</td>\n",
       "      <td>2.389948</td>\n",
       "      <td>30.726645</td>\n",
       "      <td>0.429809</td>\n",
       "      <td>0.235702</td>\n",
       "      <td>25.523893</td>\n",
       "    </tr>\n",
       "  </tbody>\n",
       "</table>\n",
       "</div>"
      ],
      "text/plain": [
       "        PassengerId  Survived    Pclass        Age     SibSp     Parch  \\\n",
       "Sex                                                                      \n",
       "female   431.028662  0.742038  2.159236  27.915709  0.694268  0.649682   \n",
       "male     454.147314  0.188908  2.389948  30.726645  0.429809  0.235702   \n",
       "\n",
       "             Fare  \n",
       "Sex                \n",
       "female  44.479818  \n",
       "male    25.523893  "
      ]
     },
     "execution_count": 1325,
     "metadata": {},
     "output_type": "execute_result"
    }
   ],
   "source": [
    "#use .groupby Sex and .mean\n",
    "df.groupby('Sex').mean()"
   ]
  },
  {
   "cell_type": "markdown",
   "id": "00bf525e",
   "metadata": {},
   "source": [
    "It does not make much sense to get the average value of the Pclass. if we are only interested in the average age for each gender, the selection of columns (rectangular brackets [] as usual) is supported on the grouped data as well:"
   ]
  },
  {
   "cell_type": "code",
   "execution_count": 1326,
   "id": "4f6729a2",
   "metadata": {},
   "outputs": [
    {
     "data": {
      "text/plain": [
       "Sex\n",
       "female    27.915709\n",
       "male      30.726645\n",
       "Name: Age, dtype: float64"
      ]
     },
     "execution_count": 1326,
     "metadata": {},
     "output_type": "execute_result"
    }
   ],
   "source": [
    "#use .goupby Sex just for Age \n",
    "df.groupby('Sex')['Age'].mean()"
   ]
  },
  {
   "cell_type": "code",
   "execution_count": 1327,
   "id": "cdcdc983",
   "metadata": {},
   "outputs": [
    {
     "data": {
      "text/plain": [
       "Pclass\n",
       "1    84.154687\n",
       "2    20.662183\n",
       "3    13.675550\n",
       "Name: Fare, dtype: float64"
      ]
     },
     "execution_count": 1327,
     "metadata": {},
     "output_type": "execute_result"
    }
   ],
   "source": [
    "# What is the mean ticket fare price for each of the sex and cabin class combinations?\n",
    "df.groupby('Pclass')['Fare'].mean()"
   ]
  },
  {
   "cell_type": "code",
   "execution_count": 1328,
   "id": "2d734ef2",
   "metadata": {},
   "outputs": [
    {
     "data": {
      "text/plain": [
       "Pclass\n",
       "1    0.629630\n",
       "2    0.472826\n",
       "3    0.242363\n",
       "Name: Survived, dtype: float64"
      ]
     },
     "execution_count": 1328,
     "metadata": {},
     "output_type": "execute_result"
    }
   ],
   "source": [
    "# Try some other combinations, what do you think about this method?\n",
    "df.groupby('Pclass')['Survived'].mean()\n",
    "\n",
    "\n"
   ]
  },
  {
   "cell_type": "markdown",
   "id": "69e40dfa",
   "metadata": {},
   "source": [
    "## Count number of records by category\n",
    "\n",
    "The value_counts() method counts the number of records for each category in a column."
   ]
  },
  {
   "cell_type": "code",
   "execution_count": 1329,
   "id": "c167e6b8",
   "metadata": {},
   "outputs": [
    {
     "data": {
      "text/plain": [
       "3    491\n",
       "1    216\n",
       "2    184\n",
       "Name: Pclass, dtype: int64"
      ]
     },
     "execution_count": 1329,
     "metadata": {},
     "output_type": "execute_result"
    }
   ],
   "source": [
    "# What is the number of passengers in each of the cabin classes?\n",
    "df['Pclass'].value_counts()\n"
   ]
  },
  {
   "cell_type": "markdown",
   "id": "56219768",
   "metadata": {},
   "source": [
    "The function is a shortcut, as it is actually a groupby operation in combination with counting of the number of records within each group:"
   ]
  },
  {
   "cell_type": "code",
   "execution_count": 1330,
   "id": "950f5c70",
   "metadata": {},
   "outputs": [
    {
     "data": {
      "text/plain": [
       "Pclass\n",
       "1    216\n",
       "2    184\n",
       "3    491\n",
       "dtype: int64"
      ]
     },
     "execution_count": 1330,
     "metadata": {},
     "output_type": "execute_result"
    }
   ],
   "source": [
    "#Count the number of passengers by cabin classes using groupby\n",
    "df.groupby('Pclass').size()"
   ]
  },
  {
   "cell_type": "code",
   "execution_count": 1331,
   "id": "e822526a",
   "metadata": {},
   "outputs": [
    {
     "name": "stdout",
     "output_type": "stream",
     "text": [
      "Sex of passengers: \n",
      " male      577\n",
      "female    314\n",
      "Name: Sex, dtype: int64\n",
      "\n",
      "\n",
      "Survivors: \n",
      " 0    549\n",
      "1    342\n",
      "Name: Survived, dtype: int64\n"
     ]
    }
   ],
   "source": [
    "# Using the value_counts method what else could you count?\n",
    "sex_count = df['Sex'].value_counts()\n",
    "survivors = df['Survived'].value_counts()\n",
    "\n",
    "print('Sex of passengers: \\n', sex_count)\n",
    "print('\\n')\n",
    "print('Survivors: \\n', survivors)\n"
   ]
  }
 ],
 "metadata": {
  "celltoolbar": "Raw Cell Format",
  "kernelspec": {
   "display_name": "base",
   "language": "python",
   "name": "python3"
  },
  "language_info": {
   "codemirror_mode": {
    "name": "ipython",
    "version": 3
   },
   "file_extension": ".py",
   "mimetype": "text/x-python",
   "name": "python",
   "nbconvert_exporter": "python",
   "pygments_lexer": "ipython3",
   "version": "3.9.13"
  },
  "vscode": {
   "interpreter": {
    "hash": "5c4750733140f152490ad392cd293dfe5a80fe016b864fe44f17919e14421bad"
   }
  }
 },
 "nbformat": 4,
 "nbformat_minor": 5
}
